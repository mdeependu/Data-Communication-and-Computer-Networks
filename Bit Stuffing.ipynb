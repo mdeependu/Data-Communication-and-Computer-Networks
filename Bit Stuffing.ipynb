{
 "cells": [
  {
   "cell_type": "code",
   "execution_count": 2,
   "metadata": {},
   "outputs": [
    {
     "name": "stdout",
     "output_type": "stream",
     "text": [
      "Enter your name: deependu\n",
      "ASCII values of your given name is\n",
      "100\n",
      "101\n",
      "101\n",
      "112\n",
      "101\n",
      "110\n",
      "100\n",
      "117\n",
      "binary value of your name is\n",
      "11001001100101110010111100001100101110111011001001110101\n",
      "After bit stuffing\n",
      "11001001100101110010111100001100101110111011001001110101\n"
     ]
    }
   ],
   "source": [
    "bin_c=[]\n",
    "\n",
    "name=input(\"Enter your name: \")\n",
    "print(\"ASCII values of your given name is\")\n",
    "\n",
    "for i in name:\n",
    "    bin_a=ord(i)\n",
    "    print(ord(i))\n",
    "    bin_v=bin(bin_a)\n",
    "    bin_c.append(bin_v[2:])\n",
    "print(\"binary value of your name is\")\n",
    "\n",
    "bin_name=(''.join(bin_c))\n",
    "print(bin_name)\n",
    "\n",
    "x=0\n",
    "c=0\n",
    "\n",
    "while(x<len(bin_c)):\n",
    "    if(bin_c[x]=='1'):\n",
    "        c=c+1\n",
    "    else:\n",
    "        c=0\n",
    "    if c==5:\n",
    "        bin_c.insert(i,'0')\n",
    "        c=0\n",
    "    x=x+1\n",
    "print(\"After bit stuffing\")\n",
    "bin_name=''.join(bin_c)\n",
    "print(bin_name)"
   ]
  },
  {
   "cell_type": "code",
   "execution_count": null,
   "metadata": {},
   "outputs": [],
   "source": []
  }
 ],
 "metadata": {
  "kernelspec": {
   "display_name": "Python 3",
   "language": "python",
   "name": "python3"
  },
  "language_info": {
   "codemirror_mode": {
    "name": "ipython",
    "version": 3
   },
   "file_extension": ".py",
   "mimetype": "text/x-python",
   "name": "python",
   "nbconvert_exporter": "python",
   "pygments_lexer": "ipython3",
   "version": "3.8.5"
  }
 },
 "nbformat": 4,
 "nbformat_minor": 5
}
